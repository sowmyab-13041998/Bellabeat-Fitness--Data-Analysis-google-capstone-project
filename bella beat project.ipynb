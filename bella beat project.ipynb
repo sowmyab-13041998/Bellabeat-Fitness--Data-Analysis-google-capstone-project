{
 "cells": [
  {
   "cell_type": "code",
   "execution_count": 1,
   "id": "3db854ff",
   "metadata": {},
   "outputs": [],
   "source": [
    "\n",
    "# Importing libraries\n",
    "import pandas as pd\n",
    "import numpy as np\n",
    "import matplotlib.pyplot as plt\n",
    "import seaborn as sns\n",
    "\n",
    "%matplotlib inline"
   ]
  },
  {
   "cell_type": "code",
   "execution_count": 2,
   "id": "b19c01d2",
   "metadata": {},
   "outputs": [],
   "source": [
    "# Load datasets\n",
    "daily_activity = pd.read_csv('dailyActivity_merged.csv')\n",
    "sleep_day = pd.read_csv('sleepDay_merged.csv')\n",
    "hourly_steps = pd.read_csv('hourlySteps_merged.csv')\n",
    "hourly_calories = pd.read_csv('hourlyCalories_merged.csv')"
   ]
  },
  {
   "cell_type": "code",
   "execution_count": 3,
   "id": "6714cdbf",
   "metadata": {},
   "outputs": [],
   "source": [
    "# Rename Pandas columns to lower case\n",
    "daily_activity.columns = daily_activity.columns.str.lower()\n",
    "sleep_day.columns = sleep_day.columns.str.lower()\n",
    "hourly_steps.columns = hourly_steps.columns.str.lower()\n",
    "hourly_calories.columns = hourly_calories.columns.str.lower()"
   ]
  },
  {
   "cell_type": "markdown",
   "id": "9df416a4",
   "metadata": {},
   "source": [
    "\n",
    "## Examine the data"
   ]
  },
  {
   "cell_type": "code",
   "execution_count": 4,
   "id": "815ea0a3",
   "metadata": {},
   "outputs": [
    {
     "data": {
      "text/html": [
       "<div>\n",
       "<style scoped>\n",
       "    .dataframe tbody tr th:only-of-type {\n",
       "        vertical-align: middle;\n",
       "    }\n",
       "\n",
       "    .dataframe tbody tr th {\n",
       "        vertical-align: top;\n",
       "    }\n",
       "\n",
       "    .dataframe thead th {\n",
       "        text-align: right;\n",
       "    }\n",
       "</style>\n",
       "<table border=\"1\" class=\"dataframe\">\n",
       "  <thead>\n",
       "    <tr style=\"text-align: right;\">\n",
       "      <th></th>\n",
       "      <th>id</th>\n",
       "      <th>activitydate</th>\n",
       "      <th>totalsteps</th>\n",
       "      <th>totaldistance</th>\n",
       "      <th>trackerdistance</th>\n",
       "      <th>loggedactivitiesdistance</th>\n",
       "      <th>veryactivedistance</th>\n",
       "      <th>moderatelyactivedistance</th>\n",
       "      <th>lightactivedistance</th>\n",
       "      <th>sedentaryactivedistance</th>\n",
       "      <th>veryactiveminutes</th>\n",
       "      <th>fairlyactiveminutes</th>\n",
       "      <th>lightlyactiveminutes</th>\n",
       "      <th>sedentaryminutes</th>\n",
       "      <th>calories</th>\n",
       "    </tr>\n",
       "  </thead>\n",
       "  <tbody>\n",
       "    <tr>\n",
       "      <th>0</th>\n",
       "      <td>1503960366</td>\n",
       "      <td>4/12/2016</td>\n",
       "      <td>13162</td>\n",
       "      <td>8.50</td>\n",
       "      <td>8.50</td>\n",
       "      <td>0.0</td>\n",
       "      <td>1.88</td>\n",
       "      <td>0.55</td>\n",
       "      <td>6.06</td>\n",
       "      <td>0.0</td>\n",
       "      <td>25</td>\n",
       "      <td>13</td>\n",
       "      <td>328</td>\n",
       "      <td>728</td>\n",
       "      <td>1985</td>\n",
       "    </tr>\n",
       "    <tr>\n",
       "      <th>1</th>\n",
       "      <td>1503960366</td>\n",
       "      <td>4/13/2016</td>\n",
       "      <td>10735</td>\n",
       "      <td>6.97</td>\n",
       "      <td>6.97</td>\n",
       "      <td>0.0</td>\n",
       "      <td>1.57</td>\n",
       "      <td>0.69</td>\n",
       "      <td>4.71</td>\n",
       "      <td>0.0</td>\n",
       "      <td>21</td>\n",
       "      <td>19</td>\n",
       "      <td>217</td>\n",
       "      <td>776</td>\n",
       "      <td>1797</td>\n",
       "    </tr>\n",
       "    <tr>\n",
       "      <th>2</th>\n",
       "      <td>1503960366</td>\n",
       "      <td>4/14/2016</td>\n",
       "      <td>10460</td>\n",
       "      <td>6.74</td>\n",
       "      <td>6.74</td>\n",
       "      <td>0.0</td>\n",
       "      <td>2.44</td>\n",
       "      <td>0.40</td>\n",
       "      <td>3.91</td>\n",
       "      <td>0.0</td>\n",
       "      <td>30</td>\n",
       "      <td>11</td>\n",
       "      <td>181</td>\n",
       "      <td>1218</td>\n",
       "      <td>1776</td>\n",
       "    </tr>\n",
       "    <tr>\n",
       "      <th>3</th>\n",
       "      <td>1503960366</td>\n",
       "      <td>4/15/2016</td>\n",
       "      <td>9762</td>\n",
       "      <td>6.28</td>\n",
       "      <td>6.28</td>\n",
       "      <td>0.0</td>\n",
       "      <td>2.14</td>\n",
       "      <td>1.26</td>\n",
       "      <td>2.83</td>\n",
       "      <td>0.0</td>\n",
       "      <td>29</td>\n",
       "      <td>34</td>\n",
       "      <td>209</td>\n",
       "      <td>726</td>\n",
       "      <td>1745</td>\n",
       "    </tr>\n",
       "    <tr>\n",
       "      <th>4</th>\n",
       "      <td>1503960366</td>\n",
       "      <td>4/16/2016</td>\n",
       "      <td>12669</td>\n",
       "      <td>8.16</td>\n",
       "      <td>8.16</td>\n",
       "      <td>0.0</td>\n",
       "      <td>2.71</td>\n",
       "      <td>0.41</td>\n",
       "      <td>5.04</td>\n",
       "      <td>0.0</td>\n",
       "      <td>36</td>\n",
       "      <td>10</td>\n",
       "      <td>221</td>\n",
       "      <td>773</td>\n",
       "      <td>1863</td>\n",
       "    </tr>\n",
       "  </tbody>\n",
       "</table>\n",
       "</div>"
      ],
      "text/plain": [
       "           id activitydate  totalsteps  totaldistance  trackerdistance  \\\n",
       "0  1503960366    4/12/2016       13162           8.50             8.50   \n",
       "1  1503960366    4/13/2016       10735           6.97             6.97   \n",
       "2  1503960366    4/14/2016       10460           6.74             6.74   \n",
       "3  1503960366    4/15/2016        9762           6.28             6.28   \n",
       "4  1503960366    4/16/2016       12669           8.16             8.16   \n",
       "\n",
       "   loggedactivitiesdistance  veryactivedistance  moderatelyactivedistance  \\\n",
       "0                       0.0                1.88                      0.55   \n",
       "1                       0.0                1.57                      0.69   \n",
       "2                       0.0                2.44                      0.40   \n",
       "3                       0.0                2.14                      1.26   \n",
       "4                       0.0                2.71                      0.41   \n",
       "\n",
       "   lightactivedistance  sedentaryactivedistance  veryactiveminutes  \\\n",
       "0                 6.06                      0.0                 25   \n",
       "1                 4.71                      0.0                 21   \n",
       "2                 3.91                      0.0                 30   \n",
       "3                 2.83                      0.0                 29   \n",
       "4                 5.04                      0.0                 36   \n",
       "\n",
       "   fairlyactiveminutes  lightlyactiveminutes  sedentaryminutes  calories  \n",
       "0                   13                   328               728      1985  \n",
       "1                   19                   217               776      1797  \n",
       "2                   11                   181              1218      1776  \n",
       "3                   34                   209               726      1745  \n",
       "4                   10                   221               773      1863  "
      ]
     },
     "execution_count": 4,
     "metadata": {},
     "output_type": "execute_result"
    }
   ],
   "source": [
    "\n",
    "daily_activity.head()"
   ]
  },
  {
   "cell_type": "code",
   "execution_count": 5,
   "id": "ca3d53a5",
   "metadata": {},
   "outputs": [
    {
     "data": {
      "text/html": [
       "<div>\n",
       "<style scoped>\n",
       "    .dataframe tbody tr th:only-of-type {\n",
       "        vertical-align: middle;\n",
       "    }\n",
       "\n",
       "    .dataframe tbody tr th {\n",
       "        vertical-align: top;\n",
       "    }\n",
       "\n",
       "    .dataframe thead th {\n",
       "        text-align: right;\n",
       "    }\n",
       "</style>\n",
       "<table border=\"1\" class=\"dataframe\">\n",
       "  <thead>\n",
       "    <tr style=\"text-align: right;\">\n",
       "      <th></th>\n",
       "      <th>id</th>\n",
       "      <th>sleepday</th>\n",
       "      <th>totalsleeprecords</th>\n",
       "      <th>totalminutesasleep</th>\n",
       "      <th>totaltimeinbed</th>\n",
       "    </tr>\n",
       "  </thead>\n",
       "  <tbody>\n",
       "    <tr>\n",
       "      <th>0</th>\n",
       "      <td>1503960366</td>\n",
       "      <td>4/12/2016 12:00:00 AM</td>\n",
       "      <td>1</td>\n",
       "      <td>327</td>\n",
       "      <td>346</td>\n",
       "    </tr>\n",
       "    <tr>\n",
       "      <th>1</th>\n",
       "      <td>1503960366</td>\n",
       "      <td>4/13/2016 12:00:00 AM</td>\n",
       "      <td>2</td>\n",
       "      <td>384</td>\n",
       "      <td>407</td>\n",
       "    </tr>\n",
       "    <tr>\n",
       "      <th>2</th>\n",
       "      <td>1503960366</td>\n",
       "      <td>4/15/2016 12:00:00 AM</td>\n",
       "      <td>1</td>\n",
       "      <td>412</td>\n",
       "      <td>442</td>\n",
       "    </tr>\n",
       "    <tr>\n",
       "      <th>3</th>\n",
       "      <td>1503960366</td>\n",
       "      <td>4/16/2016 12:00:00 AM</td>\n",
       "      <td>2</td>\n",
       "      <td>340</td>\n",
       "      <td>367</td>\n",
       "    </tr>\n",
       "    <tr>\n",
       "      <th>4</th>\n",
       "      <td>1503960366</td>\n",
       "      <td>4/17/2016 12:00:00 AM</td>\n",
       "      <td>1</td>\n",
       "      <td>700</td>\n",
       "      <td>712</td>\n",
       "    </tr>\n",
       "  </tbody>\n",
       "</table>\n",
       "</div>"
      ],
      "text/plain": [
       "           id               sleepday  totalsleeprecords  totalminutesasleep  \\\n",
       "0  1503960366  4/12/2016 12:00:00 AM                  1                 327   \n",
       "1  1503960366  4/13/2016 12:00:00 AM                  2                 384   \n",
       "2  1503960366  4/15/2016 12:00:00 AM                  1                 412   \n",
       "3  1503960366  4/16/2016 12:00:00 AM                  2                 340   \n",
       "4  1503960366  4/17/2016 12:00:00 AM                  1                 700   \n",
       "\n",
       "   totaltimeinbed  \n",
       "0             346  \n",
       "1             407  \n",
       "2             442  \n",
       "3             367  \n",
       "4             712  "
      ]
     },
     "execution_count": 5,
     "metadata": {},
     "output_type": "execute_result"
    }
   ],
   "source": [
    "sleep_day.head()"
   ]
  },
  {
   "cell_type": "code",
   "execution_count": 6,
   "id": "cddd5027",
   "metadata": {},
   "outputs": [
    {
     "data": {
      "text/html": [
       "<div>\n",
       "<style scoped>\n",
       "    .dataframe tbody tr th:only-of-type {\n",
       "        vertical-align: middle;\n",
       "    }\n",
       "\n",
       "    .dataframe tbody tr th {\n",
       "        vertical-align: top;\n",
       "    }\n",
       "\n",
       "    .dataframe thead th {\n",
       "        text-align: right;\n",
       "    }\n",
       "</style>\n",
       "<table border=\"1\" class=\"dataframe\">\n",
       "  <thead>\n",
       "    <tr style=\"text-align: right;\">\n",
       "      <th></th>\n",
       "      <th>id</th>\n",
       "      <th>activityhour</th>\n",
       "      <th>steptotal</th>\n",
       "    </tr>\n",
       "  </thead>\n",
       "  <tbody>\n",
       "    <tr>\n",
       "      <th>0</th>\n",
       "      <td>1503960366</td>\n",
       "      <td>4/12/2016 12:00:00 AM</td>\n",
       "      <td>373</td>\n",
       "    </tr>\n",
       "    <tr>\n",
       "      <th>1</th>\n",
       "      <td>1503960366</td>\n",
       "      <td>4/12/2016 1:00:00 AM</td>\n",
       "      <td>160</td>\n",
       "    </tr>\n",
       "    <tr>\n",
       "      <th>2</th>\n",
       "      <td>1503960366</td>\n",
       "      <td>4/12/2016 2:00:00 AM</td>\n",
       "      <td>151</td>\n",
       "    </tr>\n",
       "    <tr>\n",
       "      <th>3</th>\n",
       "      <td>1503960366</td>\n",
       "      <td>4/12/2016 3:00:00 AM</td>\n",
       "      <td>0</td>\n",
       "    </tr>\n",
       "    <tr>\n",
       "      <th>4</th>\n",
       "      <td>1503960366</td>\n",
       "      <td>4/12/2016 4:00:00 AM</td>\n",
       "      <td>0</td>\n",
       "    </tr>\n",
       "  </tbody>\n",
       "</table>\n",
       "</div>"
      ],
      "text/plain": [
       "           id           activityhour  steptotal\n",
       "0  1503960366  4/12/2016 12:00:00 AM        373\n",
       "1  1503960366   4/12/2016 1:00:00 AM        160\n",
       "2  1503960366   4/12/2016 2:00:00 AM        151\n",
       "3  1503960366   4/12/2016 3:00:00 AM          0\n",
       "4  1503960366   4/12/2016 4:00:00 AM          0"
      ]
     },
     "execution_count": 6,
     "metadata": {},
     "output_type": "execute_result"
    }
   ],
   "source": [
    "\n",
    "hourly_steps.head()"
   ]
  },
  {
   "cell_type": "code",
   "execution_count": 7,
   "id": "26ad9f72",
   "metadata": {},
   "outputs": [
    {
     "data": {
      "text/html": [
       "<div>\n",
       "<style scoped>\n",
       "    .dataframe tbody tr th:only-of-type {\n",
       "        vertical-align: middle;\n",
       "    }\n",
       "\n",
       "    .dataframe tbody tr th {\n",
       "        vertical-align: top;\n",
       "    }\n",
       "\n",
       "    .dataframe thead th {\n",
       "        text-align: right;\n",
       "    }\n",
       "</style>\n",
       "<table border=\"1\" class=\"dataframe\">\n",
       "  <thead>\n",
       "    <tr style=\"text-align: right;\">\n",
       "      <th></th>\n",
       "      <th>id</th>\n",
       "      <th>activityhour</th>\n",
       "      <th>calories</th>\n",
       "    </tr>\n",
       "  </thead>\n",
       "  <tbody>\n",
       "    <tr>\n",
       "      <th>0</th>\n",
       "      <td>1503960366</td>\n",
       "      <td>4/12/2016 12:00:00 AM</td>\n",
       "      <td>81</td>\n",
       "    </tr>\n",
       "    <tr>\n",
       "      <th>1</th>\n",
       "      <td>1503960366</td>\n",
       "      <td>4/12/2016 1:00:00 AM</td>\n",
       "      <td>61</td>\n",
       "    </tr>\n",
       "    <tr>\n",
       "      <th>2</th>\n",
       "      <td>1503960366</td>\n",
       "      <td>4/12/2016 2:00:00 AM</td>\n",
       "      <td>59</td>\n",
       "    </tr>\n",
       "    <tr>\n",
       "      <th>3</th>\n",
       "      <td>1503960366</td>\n",
       "      <td>4/12/2016 3:00:00 AM</td>\n",
       "      <td>47</td>\n",
       "    </tr>\n",
       "    <tr>\n",
       "      <th>4</th>\n",
       "      <td>1503960366</td>\n",
       "      <td>4/12/2016 4:00:00 AM</td>\n",
       "      <td>48</td>\n",
       "    </tr>\n",
       "  </tbody>\n",
       "</table>\n",
       "</div>"
      ],
      "text/plain": [
       "           id           activityhour  calories\n",
       "0  1503960366  4/12/2016 12:00:00 AM        81\n",
       "1  1503960366   4/12/2016 1:00:00 AM        61\n",
       "2  1503960366   4/12/2016 2:00:00 AM        59\n",
       "3  1503960366   4/12/2016 3:00:00 AM        47\n",
       "4  1503960366   4/12/2016 4:00:00 AM        48"
      ]
     },
     "execution_count": 7,
     "metadata": {},
     "output_type": "execute_result"
    }
   ],
   "source": [
    "\n",
    "hourly_calories.head()"
   ]
  },
  {
   "cell_type": "markdown",
   "id": "cdbc9f56",
   "metadata": {},
   "source": [
    "## Overview of all variables, their datatypes"
   ]
  },
  {
   "cell_type": "code",
   "execution_count": 8,
   "id": "72d02412",
   "metadata": {},
   "outputs": [
    {
     "name": "stdout",
     "output_type": "stream",
     "text": [
      "<class 'pandas.core.frame.DataFrame'>\n",
      "RangeIndex: 940 entries, 0 to 939\n",
      "Data columns (total 15 columns):\n",
      " #   Column                    Non-Null Count  Dtype  \n",
      "---  ------                    --------------  -----  \n",
      " 0   id                        940 non-null    int64  \n",
      " 1   activitydate              940 non-null    object \n",
      " 2   totalsteps                940 non-null    int64  \n",
      " 3   totaldistance             940 non-null    float64\n",
      " 4   trackerdistance           940 non-null    float64\n",
      " 5   loggedactivitiesdistance  940 non-null    float64\n",
      " 6   veryactivedistance        940 non-null    float64\n",
      " 7   moderatelyactivedistance  940 non-null    float64\n",
      " 8   lightactivedistance       940 non-null    float64\n",
      " 9   sedentaryactivedistance   940 non-null    float64\n",
      " 10  veryactiveminutes         940 non-null    int64  \n",
      " 11  fairlyactiveminutes       940 non-null    int64  \n",
      " 12  lightlyactiveminutes      940 non-null    int64  \n",
      " 13  sedentaryminutes          940 non-null    int64  \n",
      " 14  calories                  940 non-null    int64  \n",
      "dtypes: float64(7), int64(7), object(1)\n",
      "memory usage: 110.3+ KB\n"
     ]
    }
   ],
   "source": [
    "\n",
    "daily_activity.info()"
   ]
  },
  {
   "cell_type": "code",
   "execution_count": 9,
   "id": "e610cad5",
   "metadata": {},
   "outputs": [
    {
     "name": "stdout",
     "output_type": "stream",
     "text": [
      "<class 'pandas.core.frame.DataFrame'>\n",
      "RangeIndex: 413 entries, 0 to 412\n",
      "Data columns (total 5 columns):\n",
      " #   Column              Non-Null Count  Dtype \n",
      "---  ------              --------------  ----- \n",
      " 0   id                  413 non-null    int64 \n",
      " 1   sleepday            413 non-null    object\n",
      " 2   totalsleeprecords   413 non-null    int64 \n",
      " 3   totalminutesasleep  413 non-null    int64 \n",
      " 4   totaltimeinbed      413 non-null    int64 \n",
      "dtypes: int64(4), object(1)\n",
      "memory usage: 16.3+ KB\n"
     ]
    }
   ],
   "source": [
    "\n",
    "sleep_day.info()"
   ]
  },
  {
   "cell_type": "code",
   "execution_count": 10,
   "id": "c78c239c",
   "metadata": {},
   "outputs": [
    {
     "name": "stdout",
     "output_type": "stream",
     "text": [
      "<class 'pandas.core.frame.DataFrame'>\n",
      "RangeIndex: 22099 entries, 0 to 22098\n",
      "Data columns (total 3 columns):\n",
      " #   Column        Non-Null Count  Dtype \n",
      "---  ------        --------------  ----- \n",
      " 0   id            22099 non-null  int64 \n",
      " 1   activityhour  22099 non-null  object\n",
      " 2   steptotal     22099 non-null  int64 \n",
      "dtypes: int64(2), object(1)\n",
      "memory usage: 518.1+ KB\n"
     ]
    }
   ],
   "source": [
    "\n",
    "hourly_steps.info()"
   ]
  },
  {
   "cell_type": "code",
   "execution_count": 11,
   "id": "3db851f7",
   "metadata": {},
   "outputs": [
    {
     "name": "stdout",
     "output_type": "stream",
     "text": [
      "<class 'pandas.core.frame.DataFrame'>\n",
      "RangeIndex: 22099 entries, 0 to 22098\n",
      "Data columns (total 3 columns):\n",
      " #   Column        Non-Null Count  Dtype \n",
      "---  ------        --------------  ----- \n",
      " 0   id            22099 non-null  int64 \n",
      " 1   activityhour  22099 non-null  object\n",
      " 2   calories      22099 non-null  int64 \n",
      "dtypes: int64(2), object(1)\n",
      "memory usage: 518.1+ KB\n"
     ]
    }
   ],
   "source": [
    "\n",
    "hourly_calories.info()"
   ]
  },
  {
   "cell_type": "markdown",
   "id": "43cbc513",
   "metadata": {},
   "source": [
    "## Changing date strings to datetime"
   ]
  },
  {
   "cell_type": "code",
   "execution_count": 12,
   "id": "b1f47bf0",
   "metadata": {},
   "outputs": [],
   "source": [
    "\n",
    "daily_activity['activitydate'] = pd.to_datetime(daily_activity['activitydate'])\n",
    "sleep_day['sleepday'] = pd.to_datetime(sleep_day['sleepday'])\n",
    "hourly_steps['time'] = pd.to_datetime(hourly_steps['activityhour'])\n",
    "hourly_calories['time'] = pd.to_datetime(hourly_calories['activityhour'])"
   ]
  },
  {
   "cell_type": "markdown",
   "id": "50528615",
   "metadata": {},
   "source": [
    "#### Now we will use Series.dt.day_name() function to return the names of the day of each timestamp in the given series object."
   ]
  },
  {
   "cell_type": "code",
   "execution_count": 13,
   "id": "9d89a5c8",
   "metadata": {},
   "outputs": [],
   "source": [
    "\n",
    "daily_activity['dayofweek'] = daily_activity['activitydate'].dt.day_name()"
   ]
  },
  {
   "cell_type": "markdown",
   "id": "51db6655",
   "metadata": {},
   "source": [
    "#### Delete the activityhour column"
   ]
  },
  {
   "cell_type": "code",
   "execution_count": 14,
   "id": "3d69acfb",
   "metadata": {},
   "outputs": [],
   "source": [
    "hourly_steps.drop(['activityhour'], axis = 1, inplace = True)\n",
    "hourly_calories.drop(['activityhour'], axis = 1, inplace = True)"
   ]
  },
  {
   "cell_type": "markdown",
   "id": "12bf18e8",
   "metadata": {},
   "source": [
    "\n",
    "#### Rename columns"
   ]
  },
  {
   "cell_type": "code",
   "execution_count": 15,
   "id": "ed7aa901",
   "metadata": {},
   "outputs": [],
   "source": [
    "daily_activity.rename(columns = {'activitydate': 'date'}, inplace = True)\n",
    "sleep_day.rename(columns = {'sleepday': 'date'}, inplace = True)"
   ]
  },
  {
   "cell_type": "markdown",
   "id": "8675f993",
   "metadata": {},
   "source": [
    "## Examine the data"
   ]
  },
  {
   "cell_type": "code",
   "execution_count": 16,
   "id": "a62afb1d",
   "metadata": {},
   "outputs": [
    {
     "data": {
      "text/plain": [
       "33"
      ]
     },
     "execution_count": 16,
     "metadata": {},
     "output_type": "execute_result"
    }
   ],
   "source": [
    "\n",
    "daily_activity['id'].nunique()"
   ]
  },
  {
   "cell_type": "code",
   "execution_count": 17,
   "id": "793acd28",
   "metadata": {},
   "outputs": [
    {
     "data": {
      "text/plain": [
       "24"
      ]
     },
     "execution_count": 17,
     "metadata": {},
     "output_type": "execute_result"
    }
   ],
   "source": [
    "\n",
    "sleep_day['id'].nunique()"
   ]
  },
  {
   "cell_type": "code",
   "execution_count": 18,
   "id": "2a7b338d",
   "metadata": {},
   "outputs": [
    {
     "data": {
      "text/plain": [
       "33"
      ]
     },
     "execution_count": 18,
     "metadata": {},
     "output_type": "execute_result"
    }
   ],
   "source": [
    "\n",
    "hourly_steps['id'].nunique()"
   ]
  },
  {
   "cell_type": "code",
   "execution_count": 19,
   "id": "881e46fc",
   "metadata": {},
   "outputs": [
    {
     "data": {
      "text/plain": [
       "33"
      ]
     },
     "execution_count": 19,
     "metadata": {},
     "output_type": "execute_result"
    }
   ],
   "source": [
    "\n",
    "hourly_calories['id'].nunique()"
   ]
  },
  {
   "cell_type": "markdown",
   "id": "af1c20b2",
   "metadata": {},
   "source": [
    "#### From the above observation, noted that\n",
    "#### There are 33 unique IDs, instead of 30 unique IDs as expected from 30 fitness tracker users.\n",
    "\n",
    "#### Only 24 runners have submitted their daily sleep.\n"
   ]
  },
  {
   "cell_type": "markdown",
   "id": "7fc620ea",
   "metadata": {},
   "source": [
    "### The total days of smart devices usage by user and average number of days that all runners tracked their activity are, respectively:"
   ]
  },
  {
   "cell_type": "code",
   "execution_count": 20,
   "id": "acbd28fb",
   "metadata": {},
   "outputs": [],
   "source": [
    "starting_date_and_an_ending_date = daily_activity.groupby('id').agg(minimum_date = ('date', np.min), maximum_date = ('date', np.max)).reset_index()"
   ]
  },
  {
   "cell_type": "markdown",
   "id": "05dbf04a",
   "metadata": {},
   "source": [
    "### Total days of smart devices usage by user"
   ]
  },
  {
   "cell_type": "code",
   "execution_count": 21,
   "id": "22dd8718",
   "metadata": {},
   "outputs": [],
   "source": [
    "starting_date_and_an_ending_date['usage_days'] = starting_date_and_an_ending_date['maximum_date'] - starting_date_and_an_ending_date['minimum_date']"
   ]
  },
  {
   "cell_type": "code",
   "execution_count": 22,
   "id": "7e42a49c",
   "metadata": {},
   "outputs": [
    {
     "data": {
      "text/html": [
       "<div>\n",
       "<style scoped>\n",
       "    .dataframe tbody tr th:only-of-type {\n",
       "        vertical-align: middle;\n",
       "    }\n",
       "\n",
       "    .dataframe tbody tr th {\n",
       "        vertical-align: top;\n",
       "    }\n",
       "\n",
       "    .dataframe thead th {\n",
       "        text-align: right;\n",
       "    }\n",
       "</style>\n",
       "<table border=\"1\" class=\"dataframe\">\n",
       "  <thead>\n",
       "    <tr style=\"text-align: right;\">\n",
       "      <th></th>\n",
       "      <th>id</th>\n",
       "      <th>usage_days</th>\n",
       "    </tr>\n",
       "  </thead>\n",
       "  <tbody>\n",
       "    <tr>\n",
       "      <th>0</th>\n",
       "      <td>1503960366</td>\n",
       "      <td>30 days</td>\n",
       "    </tr>\n",
       "    <tr>\n",
       "      <th>1</th>\n",
       "      <td>1624580081</td>\n",
       "      <td>30 days</td>\n",
       "    </tr>\n",
       "    <tr>\n",
       "      <th>2</th>\n",
       "      <td>1644430081</td>\n",
       "      <td>29 days</td>\n",
       "    </tr>\n",
       "    <tr>\n",
       "      <th>3</th>\n",
       "      <td>1844505072</td>\n",
       "      <td>30 days</td>\n",
       "    </tr>\n",
       "    <tr>\n",
       "      <th>4</th>\n",
       "      <td>1927972279</td>\n",
       "      <td>30 days</td>\n",
       "    </tr>\n",
       "    <tr>\n",
       "      <th>5</th>\n",
       "      <td>2022484408</td>\n",
       "      <td>30 days</td>\n",
       "    </tr>\n",
       "    <tr>\n",
       "      <th>6</th>\n",
       "      <td>2026352035</td>\n",
       "      <td>30 days</td>\n",
       "    </tr>\n",
       "    <tr>\n",
       "      <th>7</th>\n",
       "      <td>2320127002</td>\n",
       "      <td>30 days</td>\n",
       "    </tr>\n",
       "    <tr>\n",
       "      <th>8</th>\n",
       "      <td>2347167796</td>\n",
       "      <td>17 days</td>\n",
       "    </tr>\n",
       "    <tr>\n",
       "      <th>9</th>\n",
       "      <td>2873212765</td>\n",
       "      <td>30 days</td>\n",
       "    </tr>\n",
       "    <tr>\n",
       "      <th>10</th>\n",
       "      <td>3372868164</td>\n",
       "      <td>19 days</td>\n",
       "    </tr>\n",
       "    <tr>\n",
       "      <th>11</th>\n",
       "      <td>3977333714</td>\n",
       "      <td>29 days</td>\n",
       "    </tr>\n",
       "    <tr>\n",
       "      <th>12</th>\n",
       "      <td>4020332650</td>\n",
       "      <td>30 days</td>\n",
       "    </tr>\n",
       "    <tr>\n",
       "      <th>13</th>\n",
       "      <td>4057192912</td>\n",
       "      <td>3 days</td>\n",
       "    </tr>\n",
       "    <tr>\n",
       "      <th>14</th>\n",
       "      <td>4319703577</td>\n",
       "      <td>30 days</td>\n",
       "    </tr>\n",
       "    <tr>\n",
       "      <th>15</th>\n",
       "      <td>4388161847</td>\n",
       "      <td>30 days</td>\n",
       "    </tr>\n",
       "    <tr>\n",
       "      <th>16</th>\n",
       "      <td>4445114986</td>\n",
       "      <td>30 days</td>\n",
       "    </tr>\n",
       "    <tr>\n",
       "      <th>17</th>\n",
       "      <td>4558609924</td>\n",
       "      <td>30 days</td>\n",
       "    </tr>\n",
       "    <tr>\n",
       "      <th>18</th>\n",
       "      <td>4702921684</td>\n",
       "      <td>30 days</td>\n",
       "    </tr>\n",
       "    <tr>\n",
       "      <th>19</th>\n",
       "      <td>5553957443</td>\n",
       "      <td>30 days</td>\n",
       "    </tr>\n",
       "    <tr>\n",
       "      <th>20</th>\n",
       "      <td>5577150313</td>\n",
       "      <td>29 days</td>\n",
       "    </tr>\n",
       "    <tr>\n",
       "      <th>21</th>\n",
       "      <td>6117666160</td>\n",
       "      <td>27 days</td>\n",
       "    </tr>\n",
       "    <tr>\n",
       "      <th>22</th>\n",
       "      <td>6290855005</td>\n",
       "      <td>28 days</td>\n",
       "    </tr>\n",
       "    <tr>\n",
       "      <th>23</th>\n",
       "      <td>6775888955</td>\n",
       "      <td>25 days</td>\n",
       "    </tr>\n",
       "    <tr>\n",
       "      <th>24</th>\n",
       "      <td>6962181067</td>\n",
       "      <td>30 days</td>\n",
       "    </tr>\n",
       "    <tr>\n",
       "      <th>25</th>\n",
       "      <td>7007744171</td>\n",
       "      <td>25 days</td>\n",
       "    </tr>\n",
       "    <tr>\n",
       "      <th>26</th>\n",
       "      <td>7086361926</td>\n",
       "      <td>30 days</td>\n",
       "    </tr>\n",
       "    <tr>\n",
       "      <th>27</th>\n",
       "      <td>8053475328</td>\n",
       "      <td>30 days</td>\n",
       "    </tr>\n",
       "    <tr>\n",
       "      <th>28</th>\n",
       "      <td>8253242879</td>\n",
       "      <td>18 days</td>\n",
       "    </tr>\n",
       "    <tr>\n",
       "      <th>29</th>\n",
       "      <td>8378563200</td>\n",
       "      <td>30 days</td>\n",
       "    </tr>\n",
       "    <tr>\n",
       "      <th>30</th>\n",
       "      <td>8583815059</td>\n",
       "      <td>30 days</td>\n",
       "    </tr>\n",
       "    <tr>\n",
       "      <th>31</th>\n",
       "      <td>8792009665</td>\n",
       "      <td>28 days</td>\n",
       "    </tr>\n",
       "    <tr>\n",
       "      <th>32</th>\n",
       "      <td>8877689391</td>\n",
       "      <td>30 days</td>\n",
       "    </tr>\n",
       "  </tbody>\n",
       "</table>\n",
       "</div>"
      ],
      "text/plain": [
       "            id usage_days\n",
       "0   1503960366    30 days\n",
       "1   1624580081    30 days\n",
       "2   1644430081    29 days\n",
       "3   1844505072    30 days\n",
       "4   1927972279    30 days\n",
       "5   2022484408    30 days\n",
       "6   2026352035    30 days\n",
       "7   2320127002    30 days\n",
       "8   2347167796    17 days\n",
       "9   2873212765    30 days\n",
       "10  3372868164    19 days\n",
       "11  3977333714    29 days\n",
       "12  4020332650    30 days\n",
       "13  4057192912     3 days\n",
       "14  4319703577    30 days\n",
       "15  4388161847    30 days\n",
       "16  4445114986    30 days\n",
       "17  4558609924    30 days\n",
       "18  4702921684    30 days\n",
       "19  5553957443    30 days\n",
       "20  5577150313    29 days\n",
       "21  6117666160    27 days\n",
       "22  6290855005    28 days\n",
       "23  6775888955    25 days\n",
       "24  6962181067    30 days\n",
       "25  7007744171    25 days\n",
       "26  7086361926    30 days\n",
       "27  8053475328    30 days\n",
       "28  8253242879    18 days\n",
       "29  8378563200    30 days\n",
       "30  8583815059    30 days\n",
       "31  8792009665    28 days\n",
       "32  8877689391    30 days"
      ]
     },
     "execution_count": 22,
     "metadata": {},
     "output_type": "execute_result"
    }
   ],
   "source": [
    "\n",
    "starting_date_and_an_ending_date[['id', 'usage_days']]"
   ]
  },
  {
   "cell_type": "markdown",
   "id": "50329397",
   "metadata": {},
   "source": [
    "\n",
    "### Average number of days that all runners tracked their activity"
   ]
  },
  {
   "cell_type": "code",
   "execution_count": 23,
   "id": "e3ed7cd3",
   "metadata": {},
   "outputs": [
    {
     "name": "stdout",
     "output_type": "stream",
     "text": [
      "27\n"
     ]
    }
   ],
   "source": [
    "print(starting_date_and_an_ending_date['usage_days'].mean().days)"
   ]
  },
  {
   "cell_type": "markdown",
   "id": "06feecd8",
   "metadata": {},
   "source": [
    "## The Average of Total Steps\n",
    "### Summary statistics"
   ]
  },
  {
   "cell_type": "code",
   "execution_count": 24,
   "id": "334355ab",
   "metadata": {},
   "outputs": [
    {
     "data": {
      "text/html": [
       "<div>\n",
       "<style scoped>\n",
       "    .dataframe tbody tr th:only-of-type {\n",
       "        vertical-align: middle;\n",
       "    }\n",
       "\n",
       "    .dataframe tbody tr th {\n",
       "        vertical-align: top;\n",
       "    }\n",
       "\n",
       "    .dataframe thead th {\n",
       "        text-align: right;\n",
       "    }\n",
       "</style>\n",
       "<table border=\"1\" class=\"dataframe\">\n",
       "  <thead>\n",
       "    <tr style=\"text-align: right;\">\n",
       "      <th></th>\n",
       "      <th>totalsteps</th>\n",
       "    </tr>\n",
       "  </thead>\n",
       "  <tbody>\n",
       "    <tr>\n",
       "      <th>count</th>\n",
       "      <td>940.000000</td>\n",
       "    </tr>\n",
       "    <tr>\n",
       "      <th>mean</th>\n",
       "      <td>7637.910638</td>\n",
       "    </tr>\n",
       "    <tr>\n",
       "      <th>std</th>\n",
       "      <td>5087.150742</td>\n",
       "    </tr>\n",
       "    <tr>\n",
       "      <th>min</th>\n",
       "      <td>0.000000</td>\n",
       "    </tr>\n",
       "    <tr>\n",
       "      <th>25%</th>\n",
       "      <td>3789.750000</td>\n",
       "    </tr>\n",
       "    <tr>\n",
       "      <th>50%</th>\n",
       "      <td>7405.500000</td>\n",
       "    </tr>\n",
       "    <tr>\n",
       "      <th>75%</th>\n",
       "      <td>10727.000000</td>\n",
       "    </tr>\n",
       "    <tr>\n",
       "      <th>max</th>\n",
       "      <td>36019.000000</td>\n",
       "    </tr>\n",
       "  </tbody>\n",
       "</table>\n",
       "</div>"
      ],
      "text/plain": [
       "         totalsteps\n",
       "count    940.000000\n",
       "mean    7637.910638\n",
       "std     5087.150742\n",
       "min        0.000000\n",
       "25%     3789.750000\n",
       "50%     7405.500000\n",
       "75%    10727.000000\n",
       "max    36019.000000"
      ]
     },
     "execution_count": 24,
     "metadata": {},
     "output_type": "execute_result"
    }
   ],
   "source": [
    "daily_activity[['totalsteps']].describe()"
   ]
  },
  {
   "cell_type": "markdown",
   "id": "8b561f68",
   "metadata": {},
   "source": [
    "#### As we can see, the average of total daily steps by the users is 7,638 steps. According to a study conducted in 2011 by BMC/BioMed Central, taking 10,000 steps a day is a reasonable target for healthy adults, helping reduce certain health conditions, such as high blood pressure and heart disease. To help users achieve the recommended number of steps, alarms or notifications can be triggered via the smart device. These reminders can encourage users to clock in more steps throughout the day."
   ]
  },
  {
   "cell_type": "markdown",
   "id": "cffc3c20",
   "metadata": {},
   "source": [
    "### Frequency of Usage Across the Week"
   ]
  },
  {
   "cell_type": "code",
   "execution_count": 70,
   "id": "f20b1daa",
   "metadata": {},
   "outputs": [
    {
     "data": {
      "image/png": "[encoded data removed]",
      "text/plain": [
       "<Figure size 700x600 with 1 Axes>"
      ]
     },
     "metadata": {},
     "output_type": "display_data"
    }
   ],
   "source": [
    "plt.style.use('default')\n",
    "plt.figure(figsize = (7, 6), tight_layout = True)\n",
    "\n",
    "ax = sns.histplot(daily_activity['dayofweek'], bins = np.arange(8) - 0.5, edgecolor = 'black',  color='red',linewidth = 1)\n",
    "ax.set(title = 'No. of Times Users Logged in App Across the Week', xlabel = 'Day of the Week', ylabel = 'Frequency')\n",
    "\n",
    "plt.tick_params(left = False, bottom = False)\n",
    "plt.xticks(range(7))\n",
    "plt.xlim([-1, 7])\n",
    "plt.show()"
   ]
  },
  {
   "cell_type": "markdown",
   "id": "20dc1377",
   "metadata": {},
   "source": [
    "#### In the above histogram we can determine the following:\n",
    "\n",
    "- We discovered that users prefer or remember to track their activity on the app during midweek from Tuesday to Thursday.\n",
    "\n",
    "- Noting that the frequency dropped on Friday and continue on weekends and Monday.\n",
    "\n",
    "- Adding feature of reminding consumer to wear the tracker in case of no-use may attract consumers who often forget to put on the gadget.\n",
    "\n",
    "- Rewards-program to incentivize consistent users may encourage regular use of Bellabeat app.\n",
    "\n",
    "- On weekends, Bellabeat app can also prompt notification to encourage users to exercise."
   ]
  },
  {
   "cell_type": "markdown",
   "id": "e487362e",
   "metadata": {},
   "source": [
    "### Percentage of Activity in Minutes"
   ]
  },
  {
   "cell_type": "code",
   "execution_count": 26,
   "id": "806ff3e2",
   "metadata": {},
   "outputs": [
    {
     "data": {
      "image/png": "[encoded data removed]",
      "text/plain": [
       "<Figure size 640x480 with 1 Axes>"
      ]
     },
     "metadata": {},
     "output_type": "display_data"
    }
   ],
   "source": [
    "sedentary_minutes = daily_activity['sedentaryminutes'].sum()\n",
    "lightly_active_minutes = daily_activity['lightlyactiveminutes'].sum()\n",
    "fairly_active_minutes = daily_activity['fairlyactiveminutes'].sum()\n",
    "very_active_minutes = daily_activity['veryactiveminutes'].sum()\n",
    "\n",
    "slices = [sedentary_minutes, lightly_active_minutes, fairly_active_minutes, very_active_minutes]\n",
    "labels = ['Sedentary Minutes', 'Lightly Active Minutes', 'Fairly Active Minutes', 'Very Active Minutes']\n",
    "colours = ['mediumpurple', 'palegreen', 'yellow', 'pink']\n",
    "explode = [0.1, 0, 0, 0]\n",
    "\n",
    "plt.pie(slices, labels = labels, colors = colours, wedgeprops = {'edgecolor': 'black'}, explode = explode, autopct = '%1.1f%%')\n",
    "plt.title('Percentage of Activity in Minutes')\n",
    "plt.tight_layout()\n",
    "plt.show()"
   ]
  },
  {
   "cell_type": "markdown",
   "id": "0578ac32",
   "metadata": {},
   "source": [
    "#### As seen from the pie chart,\n",
    "\n",
    "- Sedentary minutes takes the biggest slice at 81.3%.\n",
    "\n",
    "- This indicates that users are using the FitBit app to log daily activities such as daily commute, inactive movements (moving from one spot to another) or running errands.\n",
    "\n",
    "- App is rarely being used to track fitness (ie. running) as per the minor percentage of fairly active activity (1.1%) and very active activity (1.7%). This is highly discouraging as FitBit app was developed to encourage fitness.\n",
    "\n",
    "- The CDC recommends working out with a friend in order to feel more motivated, be more adventurous in trying workouts, and to become consistent. The CDC even recommends the use of a social media workout app to connect with friends and reach your goals. The Bellabeat app could become that social media workout app that women turn to, by creating a sisterhood of supportive women ready to prioritize their health."
   ]
  },
  {
   "cell_type": "markdown",
   "id": "4d0eac73",
   "metadata": {},
   "source": [
    "### Average Steps per Hour"
   ]
  },
  {
   "cell_type": "code",
   "execution_count": 59,
   "id": "6ef12b01",
   "metadata": {},
   "outputs": [
    {
     "data": {
      "text/html": [
       "<div>\n",
       "<style scoped>\n",
       "    .dataframe tbody tr th:only-of-type {\n",
       "        vertical-align: middle;\n",
       "    }\n",
       "\n",
       "    .dataframe tbody tr th {\n",
       "        vertical-align: top;\n",
       "    }\n",
       "\n",
       "    .dataframe thead th {\n",
       "        text-align: right;\n",
       "    }\n",
       "</style>\n",
       "<table border=\"1\" class=\"dataframe\">\n",
       "  <thead>\n",
       "    <tr style=\"text-align: right;\">\n",
       "      <th></th>\n",
       "      <th>id</th>\n",
       "      <th>steptotal</th>\n",
       "      <th>time</th>\n",
       "      <th>calories</th>\n",
       "    </tr>\n",
       "  </thead>\n",
       "  <tbody>\n",
       "    <tr>\n",
       "      <th>0</th>\n",
       "      <td>1503960366</td>\n",
       "      <td>373</td>\n",
       "      <td>2016-04-12 00:00:00</td>\n",
       "      <td>81</td>\n",
       "    </tr>\n",
       "    <tr>\n",
       "      <th>1</th>\n",
       "      <td>1503960366</td>\n",
       "      <td>160</td>\n",
       "      <td>2016-04-12 01:00:00</td>\n",
       "      <td>61</td>\n",
       "    </tr>\n",
       "    <tr>\n",
       "      <th>2</th>\n",
       "      <td>1503960366</td>\n",
       "      <td>151</td>\n",
       "      <td>2016-04-12 02:00:00</td>\n",
       "      <td>59</td>\n",
       "    </tr>\n",
       "    <tr>\n",
       "      <th>3</th>\n",
       "      <td>1503960366</td>\n",
       "      <td>0</td>\n",
       "      <td>2016-04-12 03:00:00</td>\n",
       "      <td>47</td>\n",
       "    </tr>\n",
       "    <tr>\n",
       "      <th>4</th>\n",
       "      <td>1503960366</td>\n",
       "      <td>0</td>\n",
       "      <td>2016-04-12 04:00:00</td>\n",
       "      <td>48</td>\n",
       "    </tr>\n",
       "    <tr>\n",
       "      <th>...</th>\n",
       "      <td>...</td>\n",
       "      <td>...</td>\n",
       "      <td>...</td>\n",
       "      <td>...</td>\n",
       "    </tr>\n",
       "    <tr>\n",
       "      <th>22094</th>\n",
       "      <td>8877689391</td>\n",
       "      <td>514</td>\n",
       "      <td>2016-05-12 10:00:00</td>\n",
       "      <td>126</td>\n",
       "    </tr>\n",
       "    <tr>\n",
       "      <th>22095</th>\n",
       "      <td>8877689391</td>\n",
       "      <td>1407</td>\n",
       "      <td>2016-05-12 11:00:00</td>\n",
       "      <td>192</td>\n",
       "    </tr>\n",
       "    <tr>\n",
       "      <th>22096</th>\n",
       "      <td>8877689391</td>\n",
       "      <td>3135</td>\n",
       "      <td>2016-05-12 12:00:00</td>\n",
       "      <td>321</td>\n",
       "    </tr>\n",
       "    <tr>\n",
       "      <th>22097</th>\n",
       "      <td>8877689391</td>\n",
       "      <td>307</td>\n",
       "      <td>2016-05-12 13:00:00</td>\n",
       "      <td>101</td>\n",
       "    </tr>\n",
       "    <tr>\n",
       "      <th>22098</th>\n",
       "      <td>8877689391</td>\n",
       "      <td>457</td>\n",
       "      <td>2016-05-12 14:00:00</td>\n",
       "      <td>113</td>\n",
       "    </tr>\n",
       "  </tbody>\n",
       "</table>\n",
       "<p>22099 rows × 4 columns</p>\n",
       "</div>"
      ],
      "text/plain": [
       "               id  steptotal                time  calories\n",
       "0      1503960366        373 2016-04-12 00:00:00        81\n",
       "1      1503960366        160 2016-04-12 01:00:00        61\n",
       "2      1503960366        151 2016-04-12 02:00:00        59\n",
       "3      1503960366          0 2016-04-12 03:00:00        47\n",
       "4      1503960366          0 2016-04-12 04:00:00        48\n",
       "...           ...        ...                 ...       ...\n",
       "22094  8877689391        514 2016-05-12 10:00:00       126\n",
       "22095  8877689391       1407 2016-05-12 11:00:00       192\n",
       "22096  8877689391       3135 2016-05-12 12:00:00       321\n",
       "22097  8877689391        307 2016-05-12 13:00:00       101\n",
       "22098  8877689391        457 2016-05-12 14:00:00       113\n",
       "\n",
       "[22099 rows x 4 columns]"
      ]
     },
     "execution_count": 59,
     "metadata": {},
     "output_type": "execute_result"
    }
   ],
   "source": [
    "hourly_steps_and_calories_merged_data = pd.merge(hourly_steps, hourly_calories, on = ['id', 'time'])\n",
    "hourly_steps_and_calories_merged_data "
   ]
  },
  {
   "cell_type": "code",
   "execution_count": 60,
   "id": "a3cb2cd8",
   "metadata": {},
   "outputs": [
    {
     "data": {
      "text/plain": [
       "0        00:00:00\n",
       "1        01:00:00\n",
       "2        02:00:00\n",
       "3        03:00:00\n",
       "4        04:00:00\n",
       "           ...   \n",
       "22094    10:00:00\n",
       "22095    11:00:00\n",
       "22096    12:00:00\n",
       "22097    13:00:00\n",
       "22098    14:00:00\n",
       "Name: time, Length: 22099, dtype: object"
      ]
     },
     "execution_count": 60,
     "metadata": {},
     "output_type": "execute_result"
    }
   ],
   "source": [
    "hourly_steps_and_calories_merged_data['time'] = pd.to_datetime(hourly_steps_and_calories_merged_data['time']).dt.time\n",
    "hourly_steps_and_calories_merged_data['time'] "
   ]
  },
  {
   "cell_type": "code",
   "execution_count": 61,
   "id": "83417dde",
   "metadata": {},
   "outputs": [
    {
     "data": {
      "text/html": [
       "<div>\n",
       "<style scoped>\n",
       "    .dataframe tbody tr th:only-of-type {\n",
       "        vertical-align: middle;\n",
       "    }\n",
       "\n",
       "    .dataframe tbody tr th {\n",
       "        vertical-align: top;\n",
       "    }\n",
       "\n",
       "    .dataframe thead th {\n",
       "        text-align: right;\n",
       "    }\n",
       "</style>\n",
       "<table border=\"1\" class=\"dataframe\">\n",
       "  <thead>\n",
       "    <tr style=\"text-align: right;\">\n",
       "      <th></th>\n",
       "      <th>time</th>\n",
       "      <th>steptotal</th>\n",
       "    </tr>\n",
       "  </thead>\n",
       "  <tbody>\n",
       "    <tr>\n",
       "      <th>0</th>\n",
       "      <td>00:00:00</td>\n",
       "      <td>42.188437</td>\n",
       "    </tr>\n",
       "    <tr>\n",
       "      <th>1</th>\n",
       "      <td>01:00:00</td>\n",
       "      <td>23.102894</td>\n",
       "    </tr>\n",
       "    <tr>\n",
       "      <th>2</th>\n",
       "      <td>02:00:00</td>\n",
       "      <td>17.110397</td>\n",
       "    </tr>\n",
       "    <tr>\n",
       "      <th>3</th>\n",
       "      <td>03:00:00</td>\n",
       "      <td>6.426581</td>\n",
       "    </tr>\n",
       "    <tr>\n",
       "      <th>4</th>\n",
       "      <td>04:00:00</td>\n",
       "      <td>12.699571</td>\n",
       "    </tr>\n",
       "    <tr>\n",
       "      <th>5</th>\n",
       "      <td>05:00:00</td>\n",
       "      <td>43.869099</td>\n",
       "    </tr>\n",
       "    <tr>\n",
       "      <th>6</th>\n",
       "      <td>06:00:00</td>\n",
       "      <td>178.508056</td>\n",
       "    </tr>\n",
       "    <tr>\n",
       "      <th>7</th>\n",
       "      <td>07:00:00</td>\n",
       "      <td>306.049409</td>\n",
       "    </tr>\n",
       "    <tr>\n",
       "      <th>8</th>\n",
       "      <td>08:00:00</td>\n",
       "      <td>427.544576</td>\n",
       "    </tr>\n",
       "    <tr>\n",
       "      <th>9</th>\n",
       "      <td>09:00:00</td>\n",
       "      <td>433.301826</td>\n",
       "    </tr>\n",
       "    <tr>\n",
       "      <th>10</th>\n",
       "      <td>10:00:00</td>\n",
       "      <td>481.665231</td>\n",
       "    </tr>\n",
       "    <tr>\n",
       "      <th>11</th>\n",
       "      <td>11:00:00</td>\n",
       "      <td>456.886731</td>\n",
       "    </tr>\n",
       "    <tr>\n",
       "      <th>12</th>\n",
       "      <td>12:00:00</td>\n",
       "      <td>548.642082</td>\n",
       "    </tr>\n",
       "    <tr>\n",
       "      <th>13</th>\n",
       "      <td>13:00:00</td>\n",
       "      <td>537.698154</td>\n",
       "    </tr>\n",
       "    <tr>\n",
       "      <th>14</th>\n",
       "      <td>14:00:00</td>\n",
       "      <td>540.513572</td>\n",
       "    </tr>\n",
       "    <tr>\n",
       "      <th>15</th>\n",
       "      <td>15:00:00</td>\n",
       "      <td>406.319126</td>\n",
       "    </tr>\n",
       "    <tr>\n",
       "      <th>16</th>\n",
       "      <td>16:00:00</td>\n",
       "      <td>496.845645</td>\n",
       "    </tr>\n",
       "    <tr>\n",
       "      <th>17</th>\n",
       "      <td>17:00:00</td>\n",
       "      <td>550.232892</td>\n",
       "    </tr>\n",
       "    <tr>\n",
       "      <th>18</th>\n",
       "      <td>18:00:00</td>\n",
       "      <td>599.169978</td>\n",
       "    </tr>\n",
       "    <tr>\n",
       "      <th>19</th>\n",
       "      <td>19:00:00</td>\n",
       "      <td>583.390728</td>\n",
       "    </tr>\n",
       "    <tr>\n",
       "      <th>20</th>\n",
       "      <td>20:00:00</td>\n",
       "      <td>353.905077</td>\n",
       "    </tr>\n",
       "    <tr>\n",
       "      <th>21</th>\n",
       "      <td>21:00:00</td>\n",
       "      <td>308.138122</td>\n",
       "    </tr>\n",
       "    <tr>\n",
       "      <th>22</th>\n",
       "      <td>22:00:00</td>\n",
       "      <td>237.987832</td>\n",
       "    </tr>\n",
       "    <tr>\n",
       "      <th>23</th>\n",
       "      <td>23:00:00</td>\n",
       "      <td>122.132890</td>\n",
       "    </tr>\n",
       "  </tbody>\n",
       "</table>\n",
       "</div>"
      ],
      "text/plain": [
       "        time   steptotal\n",
       "0   00:00:00   42.188437\n",
       "1   01:00:00   23.102894\n",
       "2   02:00:00   17.110397\n",
       "3   03:00:00    6.426581\n",
       "4   04:00:00   12.699571\n",
       "5   05:00:00   43.869099\n",
       "6   06:00:00  178.508056\n",
       "7   07:00:00  306.049409\n",
       "8   08:00:00  427.544576\n",
       "9   09:00:00  433.301826\n",
       "10  10:00:00  481.665231\n",
       "11  11:00:00  456.886731\n",
       "12  12:00:00  548.642082\n",
       "13  13:00:00  537.698154\n",
       "14  14:00:00  540.513572\n",
       "15  15:00:00  406.319126\n",
       "16  16:00:00  496.845645\n",
       "17  17:00:00  550.232892\n",
       "18  18:00:00  599.169978\n",
       "19  19:00:00  583.390728\n",
       "20  20:00:00  353.905077\n",
       "21  21:00:00  308.138122\n",
       "22  22:00:00  237.987832\n",
       "23  23:00:00  122.132890"
      ]
     },
     "execution_count": 61,
     "metadata": {},
     "output_type": "execute_result"
    }
   ],
   "source": [
    "average_total_steps = hourly_steps_and_calories_merged_data.groupby(['time'])['steptotal'].mean().reset_index()\n",
    "average_total_steps"
   ]
  },
  {
   "cell_type": "code",
   "execution_count": 66,
   "id": "57bf701d",
   "metadata": {},
   "outputs": [
    {
     "data": {
      "image/png": "[encoded data removed]",
      "text/plain": [
       "<Figure size 800x600 with 1 Axes>"
      ]
     },
     "metadata": {},
     "output_type": "display_data"
    }
   ],
   "source": [
    "\n",
    "average_total_steps.plot.bar(figsize = (8, 6) , edgecolor = 'black', width = 1.0, title = 'Average Steps per Hour', xlabel = 'Time of Day', ylabel = 'Average Steps', color='seagreen',legend = False)\n",
    "\n",
    "plt.tick_params(left = False, bottom = False)"
   ]
  },
  {
   "cell_type": "markdown",
   "id": "1420b5ef",
   "metadata": {},
   "source": [
    "#### Users takes the most steps from 5 PM to 7 PM. Bellabeat can use this time to remind and motivate users to go for a run or walk."
   ]
  },
  {
   "cell_type": "markdown",
   "id": "a43af3cf",
   "metadata": {},
   "source": [
    "### Minutes Asleep vs. Total Steps"
   ]
  },
  {
   "cell_type": "code",
   "execution_count": 31,
   "id": "20f12b26",
   "metadata": {},
   "outputs": [],
   "source": [
    "daily_activity_and_sleep_day_merged_data = daily_activity.merge(sleep_day, on = ['id', 'date'])"
   ]
  },
  {
   "cell_type": "code",
   "execution_count": 68,
   "id": "5622b12c",
   "metadata": {},
   "outputs": [
    {
     "data": {
      "image/png": "[encoded data removed]",
      "text/plain": [
       "<Figure size 800x600 with 1 Axes>"
      ]
     },
     "metadata": {},
     "output_type": "display_data"
    }
   ],
   "source": [
    "\n",
    "plt.figure(figsize = (8, 6), tight_layout = True)\n",
    "\n",
    "ax = sns.regplot(x = 'totalsteps', y = 'totalminutesasleep', data = daily_activity_and_sleep_day_merged_data, scatter_kws = {'color': 'aqua'}, line_kws = {'color': 'red'})\n",
    "ax.set(title = 'Minutes Asleep vs. Total Steps', xlabel = 'Total Steps', ylabel = 'Total Minutes Asleep')\n",
    "\n",
    "plt.grid(True)\n",
    "plt.show()"
   ]
  },
  {
   "cell_type": "markdown",
   "id": "62c32090",
   "metadata": {},
   "source": [
    "#### Users who move more through the day and tend to exercise longer, tend to sleep less. Therefore, Bellabeat could offer their customers reminders about upcoming sleep time or even relaxing playlists in order to get ready for bedtime."
   ]
  },
  {
   "cell_type": "markdown",
   "id": "7d46f3d3",
   "metadata": {},
   "source": [
    "### Active Minutes vs. Calories Burned"
   ]
  },
  {
   "cell_type": "code",
   "execution_count": 33,
   "id": "adba6e7e",
   "metadata": {},
   "outputs": [],
   "source": [
    "daily_activity['totalactiveminutes'] = daily_activity['lightlyactiveminutes'] + daily_activity['fairlyactiveminutes'] + daily_activity['veryactiveminutes']\n"
   ]
  },
  {
   "cell_type": "code",
   "execution_count": 69,
   "id": "d711f567",
   "metadata": {},
   "outputs": [
    {
     "data": {
      "image/png": "[encoded data removed]",
      "text/plain": [
       "<Figure size 800x600 with 1 Axes>"
      ]
     },
     "metadata": {},
     "output_type": "display_data"
    }
   ],
   "source": [
    "plt.figure(figsize = (8, 6), tight_layout = True)\n",
    "\n",
    "ax = sns.regplot(x = 'totalactiveminutes', y = 'calories', data = daily_activity, scatter_kws = {'color': 'cornflowerblue'}, line_kws = {'color': 'red'})\n",
    "ax.set(title = 'Active Minutes vs. Calories Burned', xlabel = 'Active Minutes', ylabel = 'Calories Burned')\n",
    "\n",
    "plt.grid(True)\n",
    "plt.show()"
   ]
  },
  {
   "cell_type": "markdown",
   "id": "d1e00597",
   "metadata": {},
   "source": [
    "#### From the scatter plot above, we can see that active minutes has a postive correlation with calories burned. Introducing different type of workout at all fitness levels, home workouts for those who work from home or simple 10 minutes short workout for those who have a very busy lifestyle to encourage users to stay active through their workweeks."
   ]
  },
  {
   "cell_type": "code",
   "execution_count": null,
   "id": "20b197d0",
   "metadata": {},
   "outputs": [],
   "source": []
  }
 ],
 "metadata": {
  "kernelspec": {
   "display_name": "Python 3 (ipykernel)",
   "language": "python",
   "name": "python3"
  },
  "language_info": {
   "codemirror_mode": {
    "name": "ipython",
    "version": 3
   },
   "file_extension": ".py",
   "mimetype": "text/x-python",
   "name": "python",
   "nbconvert_exporter": "python",
   "pygments_lexer": "ipython3",
   "version": "3.9.7"
  }
 },
 "nbformat": 4,
 "nbformat_minor": 5
}
